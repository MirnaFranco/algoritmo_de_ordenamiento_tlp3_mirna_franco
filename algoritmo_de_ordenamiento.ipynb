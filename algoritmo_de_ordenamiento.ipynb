{
 "cells": [
  {
   "cell_type": "markdown",
   "id": "5c5e4280",
   "metadata": {},
   "source": [
    "## 1. Shell Sort\n",
    "\n",
    "Es una mejora del Insertion Sort. Compara elementos que están alejados entre sí y reduce progresivamente ese “salto”.\n",
    "\n",
    "Ventajas: Mejor rendimiento que Insertion y Bubble en listas grandes.\n",
    "\n",
    "Desventajas: Su rendimiento depende de la secuencia de incrementos elegida (no es trivial optimizarlo).\n",
    "\n"
   ]
  },
  {
   "cell_type": "markdown",
   "id": "c683becc",
   "metadata": {},
   "source": [
    "##  Counting Sort\n",
    " Cuenta cuántas veces aparece cada valor y usa esa información para ordenar.\n",
    "\n",
    "Ventajas: Muy rápido para números enteros en un rango pequeño. Complejidad O(n + k).\n",
    "\n",
    "Desventajas: No sirve para datos con muchos valores diferentes o no enteros."
   ]
  },
  {
   "cell_type": "markdown",
   "id": "f47808c8",
   "metadata": {},
   "source": [
    "## Radix Sort\n",
    "\n",
    " Ordena números por dígitos, de menor a mayor significancia.\n",
    "\n",
    "Ventajas: Muy eficiente para enteros grandes. Usa Counting Sort como paso intermedio.\n",
    "\n",
    "Desventajas: Solo funciona con ciertos tipos de datos (como enteros)."
   ]
  },
  {
   "cell_type": "markdown",
   "id": "00a4bc3e",
   "metadata": {},
   "source": [
    "## Bucket Sort\n",
    "\n",
    " Distribuye elementos en \"baldes\" (buckets), los ordena individualmente y los combina.\n",
    "\n",
    "Ventajas: Puede ser muy rápido si los datos están distribuidos uniformemente.\n",
    "\n",
    "Desventajas: Requiere elegir bien la cantidad de buckets y no funciona bien con datos muy dispares.\n",
    "\n"
   ]
  },
  {
   "cell_type": "markdown",
   "id": "fee7b925",
   "metadata": {},
   "source": [
    "## 2. Heap Sort\n",
    "\n",
    "Heap Sort es un algoritmo de ordenamiento basado en una estructura de datos llamada **heap binario**, que es un tipo de árbol completo.\n",
    "\n",
    "### ¿Cómo funciona?\n",
    "1. Se construye un **heap máximo** (max heap) a partir de los elementos del arreglo.\n",
    "2. El elemento máximo (raíz del heap) se intercambia con el último elemento del arreglo.\n",
    "3. Se reduce el tamaño del heap en 1 y se aplica el proceso de reorganización (heapify).\n",
    "4. Se repite el paso 2 hasta que todos los elementos estén ordenados.\n",
    "\n",
    "### Complejidad:\n",
    "- Mejor caso: O(n log n)\n",
    "- Peor caso: O(n log n)\n",
    "- Caso promedio: O(n log n)\n",
    "\n",
    "A diferencia de Quick Sort, Heap Sort **no depende de la posición del pivote**, por lo que tiene un rendimiento más predecible.\n"
   ]
  },
  {
   "cell_type": "code",
   "execution_count": 2,
   "id": "dc0032f5",
   "metadata": {},
   "outputs": [],
   "source": [
    "def heapify(arr, n, i):\n",
    "    largest = i\n",
    "    left = 2 * i + 1\n",
    "    right = 2 * i + 2\n",
    "\n",
    "    if left < n and arr[left] > arr[largest]:\n",
    "        largest = left\n",
    "\n",
    "    if right < n and arr[right] > arr[largest]:\n",
    "        largest = right\n",
    "\n",
    "    if largest != i:\n",
    "        arr[i], arr[largest] = arr[largest], arr[i]\n",
    "        heapify(arr, n, largest)\n",
    "\n",
    "def heap_sort(arr):\n",
    "    n = len(arr)\n",
    "\n",
    "    # Construir max heap\n",
    "    for i in range(n//2 - 1, -1, -1):\n",
    "        heapify(arr, n, i)\n",
    "\n",
    "    # Extraer elementos del heap\n",
    "    for i in range(n-1, 0, -1):\n",
    "        arr[i], arr[0] = arr[0], arr[i]\n",
    "        heapify(arr, i, 0)\n",
    "\n",
    "    return arr\n"
   ]
  },
  {
   "cell_type": "code",
   "execution_count": 3,
   "id": "6576c535",
   "metadata": {},
   "outputs": [
    {
     "name": "stdout",
     "output_type": "stream",
     "text": [
      "Heap Sort: 0.003641 segundos\n",
      "Bubble Sort: 0.153415 segundos\n"
     ]
    }
   ],
   "source": [
    "import time\n",
    "import random\n",
    "\n",
    "# Algoritmo Bubble Sort (visto en clase)\n",
    "def bubble_sort(arr):\n",
    "    n = len(arr)\n",
    "    for i in range(n):\n",
    "        for j in range(0, n - i - 1):\n",
    "            if arr[j] > arr[j + 1]:\n",
    "                arr[j], arr[j + 1] = arr[j + 1], arr[j]\n",
    "    return arr\n",
    "\n",
    "# Lista aleatoria\n",
    "tamano = 1000\n",
    "lista_original = [random.randint(0, 10000) for _ in range(tamano)]\n",
    "\n",
    "# Comparación de tiempos\n",
    "# Heap Sort\n",
    "lista1 = lista_original.copy()\n",
    "inicio = time.perf_counter()\n",
    "heap_sort(lista1)\n",
    "fin = time.perf_counter()\n",
    "print(f\"Heap Sort: {fin - inicio:.6f} segundos\")\n",
    "\n",
    "# Bubble Sort\n",
    "lista2 = lista_original.copy()\n",
    "inicio = time.perf_counter()\n",
    "bubble_sort(lista2)\n",
    "fin = time.perf_counter()\n",
    "print(f\"Bubble Sort: {fin - inicio:.6f} segundos\")\n"
   ]
  },
  {
   "cell_type": "markdown",
   "id": "bb5b96a1",
   "metadata": {},
   "source": [
    "## Conclusión\n",
    "\n",
    "- **¿Cuál fue más rápido?**\n",
    "  Heap Sort fue mucho más rápido que Bubble Sort.\n",
    "\n",
    "- **¿Te sorprendió el resultado?**\n",
    "  No tanto, ya que Bubble Sort tiene una complejidad cuadrática y es ineficiente para listas grandes, mientras que Heap Sort es más eficiente con una complejidad O(n log n).\n",
    "\n",
    "- **¿Te gustó el algoritmo que elegiste?**\n",
    "  Sí, porque aunque es menos intuitivo que otros como Insertion o Bubble, es muy potente y su rendimiento es consistente, incluso en el peor de los casos.\n"
   ]
  }
 ],
 "metadata": {
  "kernelspec": {
   "display_name": "Python 3",
   "language": "python",
   "name": "python3"
  },
  "language_info": {
   "codemirror_mode": {
    "name": "ipython",
    "version": 3
   },
   "file_extension": ".py",
   "mimetype": "text/x-python",
   "name": "python",
   "nbconvert_exporter": "python",
   "pygments_lexer": "ipython3",
   "version": "3.13.2"
  }
 },
 "nbformat": 4,
 "nbformat_minor": 5
}
